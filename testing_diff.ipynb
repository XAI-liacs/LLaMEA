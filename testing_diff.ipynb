{
 "cells": [
  {
   "cell_type": "code",
   "execution_count": null,
   "id": "a31b6ccf",
   "metadata": {},
   "outputs": [
    {
     "name": "stdout",
     "output_type": "stream",
     "text": [
      "Could not place hunk #1 (len old=16 new=39). Try increasing max_fuzz. Preview of expected start:\n",
      "import numpy as np\n",
      "from sklearn.ensemble import RandomForestClassifier\n",
      "from sklearn.feature_selection import RFECV\n",
      "from sklearn.preprocessing import StandardScaler\n",
      "\n",
      "\n",
      "import numpy as np\n",
      "import sklearn\n",
      "from sklearn.fea\n",
      "------------------\n",
      "--- original.py\n",
      "+++ updated.py\n",
      "@@ -1,16 +1,40 @@\n",
      " \n",
      "####################\n",
      "Could not place hunk #1 (len old=14 new=34). Try increasing max_fuzz. Preview of expected start:\n",
      "import numpy as np\n",
      "from sklearn.ensemble import RandomForestClassifier\n",
      "from sklearn.feature_selection import RFECV\n",
      "from sklearn.pipeline import Pipeline\n",
      "\n",
      "\n",
      "import numpy as np\n",
      "import sklearn\n",
      "from sklearn.fea\n",
      "------------------\n",
      "--- original.py\n",
      "+++ updated.py\n",
      "@@ -1,17 +1,36 @@\n",
      " \n",
      "####################\n"
     ]
    }
   ],
   "source": [
    "from llamea.utils import apply_unified_diff\n",
    "\n",
    "# read logs\n",
    "import json\n",
    "import os\n",
    "from pathlib import Path\n",
    "\n",
    "log_path = Path(\"/home/neocortex/repos/LLaMEA/exp-08-11_114836-LLaMEA-gemini-1.5-flash-automl-breast-cancer/log.jsonl\")\n",
    "with log_path.open(\"r\", encoding=\"utf-8\", errors=\"ignore\") as f:\n",
    "    for ln in f:\n",
    "        ln = ln.strip()\n",
    "        if not ln:\n",
    "            continue\n",
    "        obj = json.loads(ln)\n",
    "        if not isinstance(obj, dict):\n",
    "            continue\n",
    "        if \"base_code\" in obj and \"unified_diff\" in obj and obj[\"unified_diff\"] != \"\":\n",
    "            # Apply the unified diff to the base code\n",
    "            newcode = apply_unified_diff(obj[\"base_code\"], obj[\"unified_diff\"])\n",
    "            if newcode == obj[\"code\"]:\n",
    "                #print(\"ERROR, code did not change after applying diff\")\n",
    "                print(\"####################\")\n",
    "                print(obj[\"base_code\"][:100])\n",
    "                print(\"------------------\")\n",
    "                print(obj[\"unified_diff\"][:100])\n",
    "                print(\"####################\")\n",
    "\n"
   ]
  }
 ],
 "metadata": {
  "kernelspec": {
   "display_name": "llamea",
   "language": "python",
   "name": "python3"
  },
  "language_info": {
   "codemirror_mode": {
    "name": "ipython",
    "version": 3
   },
   "file_extension": ".py",
   "mimetype": "text/x-python",
   "name": "python",
   "nbconvert_exporter": "python",
   "pygments_lexer": "ipython3",
   "version": "3.11.13"
  }
 },
 "nbformat": 4,
 "nbformat_minor": 5
}
